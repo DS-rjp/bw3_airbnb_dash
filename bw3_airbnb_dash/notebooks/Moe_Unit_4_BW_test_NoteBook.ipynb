{
  "nbformat": 4,
  "nbformat_minor": 0,
  "metadata": {
    "colab": {
      "name": "Moe_Unit_4_BW_test_NoteBook",
      "provenance": [],
      "collapsed_sections": [],
      "include_colab_link": true
    },
    "kernelspec": {
      "name": "python3",
      "display_name": "Python 3"
    }
  },
  "cells": [
    {
      "cell_type": "markdown",
      "metadata": {
        "id": "view-in-github",
        "colab_type": "text"
      },
      "source": [
        "<a href=\"https://colab.research.google.com/github/jproctor-rebecca/bw3_airbnb_dash/blob/master/bw3_airbnb_dash/notebooks/Moe_Unit_4_BW_test_NoteBook.ipynb\" target=\"_parent\"><img src=\"https://colab.research.google.com/assets/colab-badge.svg\" alt=\"Open In Colab\"/></a>"
      ]
    },
    {
      "cell_type": "code",
      "metadata": {
        "id": "ooCiN0okOQKa"
      },
      "source": [
        "import pandas as pd\n",
        "import joblib"
      ],
      "execution_count": null,
      "outputs": []
    },
    {
      "cell_type": "code",
      "metadata": {
        "id": "jB9C3cAROo69"
      },
      "source": [
        "X_test = pd.read_csv('X_test.csv')\n",
        "y_train = pd.read_csv('y_train_final.csv')\n",
        "y_test = pd.read_csv('y_test.csv')\n",
        "X_train = pd.read_csv('X_train.csv')"
      ],
      "execution_count": null,
      "outputs": []
    },
    {
      "cell_type": "code",
      "metadata": {
        "id": "RDhvmAstQQgE",
        "outputId": "9149957e-8667-4398-9cd7-f27062ee3fdd",
        "colab": {
          "base_uri": "https://localhost:8080/",
          "height": 34
        }
      },
      "source": [
        "X_train.shape, y_train.shape"
      ],
      "execution_count": null,
      "outputs": [
        {
          "output_type": "execute_result",
          "data": {
            "text/plain": [
              "((74036, 70), (74036, 1))"
            ]
          },
          "metadata": {
            "tags": []
          },
          "execution_count": 72
        }
      ]
    },
    {
      "cell_type": "code",
      "metadata": {
        "id": "zTs--_E6Q3Fu",
        "outputId": "bb245f19-f7f8-4dee-e4dc-f357380f5575",
        "colab": {
          "base_uri": "https://localhost:8080/",
          "height": 391
        }
      },
      "source": [
        "model = joblib.load('final_pipeline_model.joblib')\n",
        "model"
      ],
      "execution_count": null,
      "outputs": [
        {
          "output_type": "execute_result",
          "data": {
            "text/plain": [
              "Pipeline(memory=None,\n",
              "         steps=[('simpleimputer',\n",
              "                 SimpleImputer(add_indicator=False, copy=True, fill_value=None,\n",
              "                               missing_values=nan, strategy='mean',\n",
              "                               verbose=0)),\n",
              "                ('standardscaler',\n",
              "                 StandardScaler(copy=True, with_mean=True, with_std=True)),\n",
              "                ('onehotencoder',\n",
              "                 OneHotEncoder(categories='auto', drop=None,\n",
              "                               dtype=<class 'numpy.float64'>,\n",
              "                               handle_unknown='error', sparse=True))...\n",
              "                 LGBMRegressor(boosting_type='gbdt', class_weight=None,\n",
              "                               colsample_bytree=1.0, importance_type='split',\n",
              "                               learning_rate=0.009105, max_depth=-1,\n",
              "                               min_child_samples=20, min_child_weight=0.001,\n",
              "                               min_split_gain=0.0, n_estimators=3000, n_jobs=-1,\n",
              "                               num_leaves=200, objective=None,\n",
              "                               random_state=None, reg_alpha=0.0, reg_lambda=0.0,\n",
              "                               silent=True, subsample=1.0,\n",
              "                               subsample_for_bin=200000, subsample_freq=0,\n",
              "                               verbose=1))],\n",
              "         verbose=False)"
            ]
          },
          "metadata": {
            "tags": []
          },
          "execution_count": 12
        }
      ]
    },
    {
      "cell_type": "code",
      "metadata": {
        "id": "u1XdKlkZXy0z",
        "outputId": "08b72886-aef1-4d3e-c50c-714a03bf609e",
        "colab": {
          "base_uri": "https://localhost:8080/",
          "height": 445
        }
      },
      "source": [
        "result = model2.fit(X_train, y_train)\n",
        "result"
      ],
      "execution_count": null,
      "outputs": [
        {
          "output_type": "stream",
          "text": [
            "/usr/local/lib/python3.6/dist-packages/sklearn/utils/validation.py:760: DataConversionWarning: A column-vector y was passed when a 1d array was expected. Please change the shape of y to (n_samples, ), for example using ravel().\n",
            "  y = column_or_1d(y, warn=True)\n"
          ],
          "name": "stderr"
        },
        {
          "output_type": "execute_result",
          "data": {
            "text/plain": [
              "Pipeline(memory=None,\n",
              "         steps=[('simpleimputer',\n",
              "                 SimpleImputer(add_indicator=False, copy=True, fill_value=None,\n",
              "                               missing_values=nan, strategy='mean',\n",
              "                               verbose=0)),\n",
              "                ('standardscaler',\n",
              "                 StandardScaler(copy=True, with_mean=True, with_std=True)),\n",
              "                ('onehotencoder',\n",
              "                 OneHotEncoder(categories='auto', drop=None,\n",
              "                               dtype=<class 'numpy.float64'>,\n",
              "                               handle_unknown='error', sparse=True))...\n",
              "                 LGBMRegressor(boosting_type='gbdt', class_weight=None,\n",
              "                               colsample_bytree=1.0, importance_type='split',\n",
              "                               learning_rate=0.009105, max_depth=-1,\n",
              "                               min_child_samples=20, min_child_weight=0.001,\n",
              "                               min_split_gain=0.0, n_estimators=3000, n_jobs=-1,\n",
              "                               num_leaves=200, objective=None,\n",
              "                               random_state=None, reg_alpha=0.0, reg_lambda=0.0,\n",
              "                               silent=True, subsample=1.0,\n",
              "                               subsample_for_bin=200000, subsample_freq=0,\n",
              "                               verbose=1))],\n",
              "         verbose=False)"
            ]
          },
          "metadata": {
            "tags": []
          },
          "execution_count": 55
        }
      ]
    },
    {
      "cell_type": "code",
      "metadata": {
        "id": "UCdP_rT_YR4u",
        "outputId": "4b746d1e-ed40-4d17-cf25-6c63bf5b6b1b",
        "colab": {
          "base_uri": "https://localhost:8080/",
          "height": 34
        }
      },
      "source": [
        "score = model2.score(X_train, y_train)\n",
        "score"
      ],
      "execution_count": null,
      "outputs": [
        {
          "output_type": "execute_result",
          "data": {
            "text/plain": [
              "0.7550099926098914"
            ]
          },
          "metadata": {
            "tags": []
          },
          "execution_count": 19
        }
      ]
    },
    {
      "cell_type": "code",
      "metadata": {
        "id": "rwa3r-BQfZjh",
        "outputId": "03596d7c-a7b5-40e3-8649-2c655bdcdd67",
        "colab": {
          "base_uri": "https://localhost:8080/",
          "height": 221
        }
      },
      "source": [
        "X_train.iloc[1234]"
      ],
      "execution_count": null,
      "outputs": [
        {
          "output_type": "execute_result",
          "data": {
            "text/plain": [
              "accommodates       2\n",
              "bathrooms          1\n",
              "cleaning_fee    True\n",
              "bedrooms           1\n",
              "beds               1\n",
              "                ... \n",
              "Chicago            0\n",
              "DC                 0\n",
              "LA                 0\n",
              "NYC                0\n",
              "SF                 1\n",
              "Name: 1234, Length: 70, dtype: object"
            ]
          },
          "metadata": {
            "tags": []
          },
          "execution_count": 63
        }
      ]
    },
    {
      "cell_type": "code",
      "metadata": {
        "id": "w8qCwvC-YVwj",
        "outputId": "586e60fa-0e3b-4f37-fcbb-6c9aa46b7279",
        "colab": {
          "base_uri": "https://localhost:8080/",
          "height": 34
        }
      },
      "source": [
        "y_pred = result.predict([X_train.iloc[1234]])\n",
        "y_pred"
      ],
      "execution_count": null,
      "outputs": [
        {
          "output_type": "execute_result",
          "data": {
            "text/plain": [
              "array([177.75035081])"
            ]
          },
          "metadata": {
            "tags": []
          },
          "execution_count": 62
        }
      ]
    }
  ]
}